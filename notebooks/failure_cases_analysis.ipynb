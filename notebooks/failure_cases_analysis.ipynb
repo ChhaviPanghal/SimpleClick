{
 "cells": [
  {
   "cell_type": "code",
   "execution_count": 1,
   "metadata": {},
   "outputs": [],
   "source": [
    "import pickle \n",
    "\n",
    "file = '/playpen-raid2/qinliu/models/model_0928_2022/evaluation_logs/others/cocolvis_vitl_epoch_54/plots/DAVIS_cvpr_NoBRS_20.pickle'\n",
    "with open(file, 'rb') as f:\n",
    "    data = pickle.load(f)\n"
   ]
  },
  {
   "cell_type": "code",
   "execution_count": 7,
   "metadata": {},
   "outputs": [
    {
     "name": "stdout",
     "output_type": "stream",
     "text": [
      "345\n",
      "[0.82429224 0.853367   0.8505094  0.8562458  0.8568528  0.8579347\n",
      " 0.8613645  0.86975765 0.8716038  0.87299174 0.87321264 0.8748341\n",
      " 0.8745573  0.8617367  0.86234975 0.8649007  0.8696267  0.8718318\n",
      " 0.8730734  0.8725359 ]\n",
      "[0.599924   0.8146704  0.85047776 0.85356593 0.8561174  0.85829663\n",
      " 0.8613279  0.8628564  0.85878557 0.85841113 0.8598255  0.86067784\n",
      " 0.8559898  0.85716236 0.855475   0.8545021  0.8632255  0.86408037\n",
      " 0.8649758  0.86530745]\n",
      "[0.69459647 0.7321041  0.76192296 0.7613636  0.7731446  0.804008\n",
      " 0.81459564 0.81938326 0.8277958  0.82648027 0.82796574 0.83116883\n",
      " 0.83387756 0.83101475 0.82924837 0.8343508  0.8401623  0.8398216\n",
      " 0.83847404 0.83672637]\n",
      "[0.48367038 0.5950338  0.60091776 0.6198074  0.6377503  0.64938635\n",
      " 0.6772313  0.6904619  0.69927925 0.7284724  0.75065684 0.7717122\n",
      " 0.7714542  0.8533623  0.8676028  0.8795895  0.88662404 0.8886116\n",
      " 0.89114827 0.8952588 ]\n",
      "[0.6356766  0.6669337  0.6796524  0.6981286  0.71067727 0.71362907\n",
      " 0.7168909  0.7162671  0.717733   0.7199394  0.7403817  0.7463928\n",
      " 0.7504284  0.75269353 0.75259584 0.7543459  0.75475454 0.7559197\n",
      " 0.7656342  0.7601823 ]\n"
     ]
    }
   ],
   "source": [
    "print(len(data['all_ious']))\n",
    "print(data['all_ious'][31])\n",
    "print(data['all_ious'][99])\n",
    "# print(data['all_ious'][168])\n",
    "print(data['all_ious'][214])\n",
    "# print(data['all_ious'][299])"
   ]
  }
 ],
 "metadata": {
  "kernelspec": {
   "display_name": "Python 3.8.8 ('base')",
   "language": "python",
   "name": "python3"
  },
  "language_info": {
   "codemirror_mode": {
    "name": "ipython",
    "version": 3
   },
   "file_extension": ".py",
   "mimetype": "text/x-python",
   "name": "python",
   "nbconvert_exporter": "python",
   "pygments_lexer": "ipython3",
   "version": "3.8.8"
  },
  "orig_nbformat": 4,
  "vscode": {
   "interpreter": {
    "hash": "e89c9d8a920cc6bbfac98998034c8a15ed2e75dae1678af787f4c4e38e5be518"
   }
  }
 },
 "nbformat": 4,
 "nbformat_minor": 2
}
