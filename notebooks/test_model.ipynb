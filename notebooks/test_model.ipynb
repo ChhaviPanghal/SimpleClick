{
 "cells": [
  {
   "cell_type": "code",
   "execution_count": null,
   "metadata": {},
   "outputs": [],
   "source": [
    "import sys\n",
    "sys.path.append('/playpen-raid2/qinliu/projects/SimpleClick')\n",
    "sys.path.append('/playpen-raid2/qinliu/projects/SimpleClick/simpleclick')\n",
    "\n",
    "\n",
    "import torch\n",
    "from simpleclick.isegm.inference.utils import load_is_model\n",
    "\n",
    "root_dir = '/playpen-raid2/qinliu/models/model_0927_2023/default/plainvit_huge672_sbd'\n",
    "checkpoint_path = f'{root_dir}/004/checkpoints/last_checkpoint.pth'\n",
    "\n",
    "device = torch.device(f'cuda:3')\n",
    "model = load_is_model(checkpoint_path, device)"
   ]
  },
  {
   "cell_type": "code",
   "execution_count": null,
   "metadata": {},
   "outputs": [],
   "source": [
    "from simpleclick.isegm.inference.predictor import BasePredictor\n",
    "\n",
    "model.eval()\n",
    "predictor = BasePredictor(model, target_length=672)"
   ]
  },
  {
   "cell_type": "code",
   "execution_count": null,
   "metadata": {},
   "outputs": [],
   "source": [
    "from simpleclick.isegm.data.datasets import GrabCutDataset, DavisDataset\n",
    "from simpleclick.isegm.inference.evaluation import evaluate_dataset\n",
    "\n",
    "GRABCUT_PATH=\"/playpen-raid2/qinliu/data/GrabCut\"\n",
    "GrabCut = GrabCutDataset(GRABCUT_PATH)\n",
    "\n",
    "DAVIS_PATH=\"/playpen-raid2/qinliu/data/DAVIS345\"\n",
    "DAVIS = DavisDataset(DAVIS_PATH)\n",
    "\n",
    "dataset = GrabCut\n",
    "dataset_results = evaluate_dataset(\n",
    "    dataset=dataset,\n",
    "    predictor=predictor,\n",
    "    pred_thr=0.49,\n",
    "    max_iou_thr=0.9,\n",
    "    min_clicks=1,\n",
    "    max_clicks=20,\n",
    ")"
   ]
  },
  {
   "cell_type": "code",
   "execution_count": null,
   "metadata": {},
   "outputs": [],
   "source": [
    "print(dataset_results)"
   ]
  }
 ],
 "metadata": {
  "kernelspec": {
   "display_name": "base",
   "language": "python",
   "name": "python3"
  },
  "language_info": {
   "codemirror_mode": {
    "name": "ipython",
    "version": 3
   },
   "file_extension": ".py",
   "mimetype": "text/x-python",
   "name": "python",
   "nbconvert_exporter": "python",
   "pygments_lexer": "ipython3",
   "version": "3.8.8"
  },
  "orig_nbformat": 4
 },
 "nbformat": 4,
 "nbformat_minor": 2
}
