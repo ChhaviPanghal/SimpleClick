{
 "cells": [
  {
   "cell_type": "code",
   "execution_count": 2,
   "metadata": {},
   "outputs": [],
   "source": [
    "# Model comparison\n",
    "from pathlib import Path\n",
    "import sys\n",
    "\n",
    "sys.path.append(str(Path(sys.path[0]).parent))"
   ]
  },
  {
   "cell_type": "code",
   "execution_count": 4,
   "metadata": {},
   "outputs": [
    {
     "name": "stdout",
     "output_type": "stream",
     "text": [
      "-------------\n",
      "4.211 M\n",
      "-------------\n",
      "10.023 M\n",
      "-------------\n",
      "30.942 M\n"
     ]
    }
   ],
   "source": [
    "from isegm.model.is_hrnet_model import HRNetModel\n",
    "\n",
    "\n",
    "def params_hrnet_18s(**kwargs):\n",
    "    model = HRNetModel(width=18, ocr_width=48, small=True, with_aux_output=True,\n",
    "                       use_disks=True, norm_radius=5, with_prev_mask=True)\n",
    "    return model\n",
    "\n",
    "\n",
    "def params_hrnet_18(**kwargs):\n",
    "    model = HRNetModel(width=18, ocr_width=64, with_aux_output=True,\n",
    "                       use_disks=True, norm_radius=5, with_prev_mask=True)\n",
    "    return model\n",
    "\n",
    "\n",
    "def params_hrnet_32(**kwargs):\n",
    "    model = HRNetModel(width=32, ocr_width=128, with_aux_output=True, use_disks=True, \n",
    "                       norm_radius=5, with_prev_mask=True)\n",
    "    return model\n",
    "\n",
    "\n",
    "def get_params_count(model):\n",
    "    return sum(param.numel() for param in model.parameters())\n",
    "\n",
    "hrnet18s = params_hrnet_18s()\n",
    "hrnet18 = params_hrnet_18()\n",
    "hrnet32 = params_hrnet_32()\n",
    "\n",
    "for model in [hrnet18s, hrnet18, hrnet32]:\n",
    "    print('-------------')\n",
    "    print('{:.3f} M'.format(get_params_count(model) / 1000 / 1000))"
   ]
  },
  {
   "cell_type": "code",
   "execution_count": 5,
   "metadata": {},
   "outputs": [
    {
     "name": "stderr",
     "output_type": "stream",
     "text": [
      "/playpen-raid/qinliu/tools/anaconda3/lib/python3.8/site-packages/torch/functional.py:568: UserWarning: torch.meshgrid: in an upcoming release, it will be required to pass the indexing argument. (Triggered internally at  /opt/conda/conda-bld/pytorch_1646755903507/work/aten/src/ATen/native/TensorShape.cpp:2228.)\n",
      "  return _VF.meshgrid(tensors, **kwargs)  # type: ignore[attr-defined]\n"
     ]
    },
    {
     "name": "stdout",
     "output_type": "stream",
     "text": [
      "debug:  torch.Size([1, 64, 224, 224]) torch.Size([1, 3, 448, 448])\n"
     ]
    },
    {
     "ename": "RuntimeError",
     "evalue": "The size of tensor a (224) must match the size of tensor b (448) at non-singleton dimension 3",
     "output_type": "error",
     "traceback": [
      "\u001b[0;31m---------------------------------------------------------------------------\u001b[0m",
      "\u001b[0;31mRuntimeError\u001b[0m                              Traceback (most recent call last)",
      "\u001b[1;32m/playpen-raid2/qinliu/projects/SimpleClick/notebooks/analyze_effiency.ipynb Cell 3\u001b[0m in \u001b[0;36m<module>\u001b[0;34m\u001b[0m\n\u001b[1;32m      <a href='vscode-notebook-cell://ssh-remote%2Bbiag-gpu6.cs.unc.edu/playpen-raid2/qinliu/projects/SimpleClick/notebooks/analyze_effiency.ipynb#ch0000002vscode-remote?line=4'>5</a>\u001b[0m \u001b[39minput\u001b[39m \u001b[39m=\u001b[39m torch\u001b[39m.\u001b[39mrandn(\u001b[39m1\u001b[39m, \u001b[39m4\u001b[39m, \u001b[39m448\u001b[39m, \u001b[39m448\u001b[39m)\n\u001b[1;32m      <a href='vscode-notebook-cell://ssh-remote%2Bbiag-gpu6.cs.unc.edu/playpen-raid2/qinliu/projects/SimpleClick/notebooks/analyze_effiency.ipynb#ch0000002vscode-remote?line=5'>6</a>\u001b[0m point \u001b[39m=\u001b[39m torch\u001b[39m.\u001b[39mrandn(\u001b[39m1\u001b[39m, \u001b[39m2\u001b[39m, \u001b[39m3\u001b[39m)\n\u001b[0;32m----> <a href='vscode-notebook-cell://ssh-remote%2Bbiag-gpu6.cs.unc.edu/playpen-raid2/qinliu/projects/SimpleClick/notebooks/analyze_effiency.ipynb#ch0000002vscode-remote?line=7'>8</a>\u001b[0m output \u001b[39m=\u001b[39m hrnet18s(\u001b[39minput\u001b[39;49m, point)\n",
      "File \u001b[0;32m/playpen-raid/qinliu/tools/anaconda3/lib/python3.8/site-packages/torch/nn/modules/module.py:1110\u001b[0m, in \u001b[0;36mModule._call_impl\u001b[0;34m(self, *input, **kwargs)\u001b[0m\n\u001b[1;32m   1106\u001b[0m \u001b[39m# If we don't have any hooks, we want to skip the rest of the logic in\u001b[39;00m\n\u001b[1;32m   1107\u001b[0m \u001b[39m# this function, and just call forward.\u001b[39;00m\n\u001b[1;32m   1108\u001b[0m \u001b[39mif\u001b[39;00m \u001b[39mnot\u001b[39;00m (\u001b[39mself\u001b[39m\u001b[39m.\u001b[39m_backward_hooks \u001b[39mor\u001b[39;00m \u001b[39mself\u001b[39m\u001b[39m.\u001b[39m_forward_hooks \u001b[39mor\u001b[39;00m \u001b[39mself\u001b[39m\u001b[39m.\u001b[39m_forward_pre_hooks \u001b[39mor\u001b[39;00m _global_backward_hooks\n\u001b[1;32m   1109\u001b[0m         \u001b[39mor\u001b[39;00m _global_forward_hooks \u001b[39mor\u001b[39;00m _global_forward_pre_hooks):\n\u001b[0;32m-> 1110\u001b[0m     \u001b[39mreturn\u001b[39;00m forward_call(\u001b[39m*\u001b[39;49m\u001b[39minput\u001b[39;49m, \u001b[39m*\u001b[39;49m\u001b[39m*\u001b[39;49mkwargs)\n\u001b[1;32m   1111\u001b[0m \u001b[39m# Do not call functions when jit is used\u001b[39;00m\n\u001b[1;32m   1112\u001b[0m full_backward_hooks, non_full_backward_hooks \u001b[39m=\u001b[39m [], []\n",
      "File \u001b[0;32m/playpen-raid2/qinliu/projects/SimpleClick/isegm/model/is_model.py:27\u001b[0m, in \u001b[0;36mISModel.forward\u001b[0;34m(self, image, points)\u001b[0m\n\u001b[1;32m     25\u001b[0m image, prev_mask \u001b[39m=\u001b[39m \u001b[39mself\u001b[39m\u001b[39m.\u001b[39mprepare_input(image)\n\u001b[1;32m     26\u001b[0m coord_features \u001b[39m=\u001b[39m \u001b[39mself\u001b[39m\u001b[39m.\u001b[39mget_coord_features(image, prev_mask, points)\n\u001b[0;32m---> 27\u001b[0m outputs \u001b[39m=\u001b[39m \u001b[39mself\u001b[39;49m\u001b[39m.\u001b[39;49mbackbone_forward(image, coord_features)\n\u001b[1;32m     29\u001b[0m outputs[\u001b[39m'\u001b[39m\u001b[39minstances\u001b[39m\u001b[39m'\u001b[39m] \u001b[39m=\u001b[39m nn\u001b[39m.\u001b[39mfunctional\u001b[39m.\u001b[39minterpolate(outputs[\u001b[39m'\u001b[39m\u001b[39minstances\u001b[39m\u001b[39m'\u001b[39m], size\u001b[39m=\u001b[39mimage\u001b[39m.\u001b[39msize()[\u001b[39m2\u001b[39m:],\n\u001b[1;32m     30\u001b[0m                                                  mode\u001b[39m=\u001b[39m\u001b[39m'\u001b[39m\u001b[39mbilinear\u001b[39m\u001b[39m'\u001b[39m, align_corners\u001b[39m=\u001b[39m\u001b[39mTrue\u001b[39;00m)\n\u001b[1;32m     31\u001b[0m \u001b[39mif\u001b[39;00m \u001b[39mself\u001b[39m\u001b[39m.\u001b[39mwith_aux_output:\n",
      "File \u001b[0;32m/playpen-raid2/qinliu/projects/SimpleClick/isegm/model/is_hrnet_model.py:24\u001b[0m, in \u001b[0;36mHRNetModel.backbone_forward\u001b[0;34m(self, image, coord_features)\u001b[0m\n\u001b[1;32m     23\u001b[0m \u001b[39mdef\u001b[39;00m \u001b[39mbackbone_forward\u001b[39m(\u001b[39mself\u001b[39m, image, coord_features\u001b[39m=\u001b[39m\u001b[39mNone\u001b[39;00m):\n\u001b[0;32m---> 24\u001b[0m     net_outputs \u001b[39m=\u001b[39m \u001b[39mself\u001b[39;49m\u001b[39m.\u001b[39;49mfeature_extractor(image, coord_features)\n\u001b[1;32m     26\u001b[0m     \u001b[39mreturn\u001b[39;00m {\u001b[39m'\u001b[39m\u001b[39minstances\u001b[39m\u001b[39m'\u001b[39m: net_outputs[\u001b[39m0\u001b[39m], \u001b[39m'\u001b[39m\u001b[39minstances_aux\u001b[39m\u001b[39m'\u001b[39m: net_outputs[\u001b[39m1\u001b[39m]}\n",
      "File \u001b[0;32m/playpen-raid/qinliu/tools/anaconda3/lib/python3.8/site-packages/torch/nn/modules/module.py:1110\u001b[0m, in \u001b[0;36mModule._call_impl\u001b[0;34m(self, *input, **kwargs)\u001b[0m\n\u001b[1;32m   1106\u001b[0m \u001b[39m# If we don't have any hooks, we want to skip the rest of the logic in\u001b[39;00m\n\u001b[1;32m   1107\u001b[0m \u001b[39m# this function, and just call forward.\u001b[39;00m\n\u001b[1;32m   1108\u001b[0m \u001b[39mif\u001b[39;00m \u001b[39mnot\u001b[39;00m (\u001b[39mself\u001b[39m\u001b[39m.\u001b[39m_backward_hooks \u001b[39mor\u001b[39;00m \u001b[39mself\u001b[39m\u001b[39m.\u001b[39m_forward_hooks \u001b[39mor\u001b[39;00m \u001b[39mself\u001b[39m\u001b[39m.\u001b[39m_forward_pre_hooks \u001b[39mor\u001b[39;00m _global_backward_hooks\n\u001b[1;32m   1109\u001b[0m         \u001b[39mor\u001b[39;00m _global_forward_hooks \u001b[39mor\u001b[39;00m _global_forward_pre_hooks):\n\u001b[0;32m-> 1110\u001b[0m     \u001b[39mreturn\u001b[39;00m forward_call(\u001b[39m*\u001b[39;49m\u001b[39minput\u001b[39;49m, \u001b[39m*\u001b[39;49m\u001b[39m*\u001b[39;49mkwargs)\n\u001b[1;32m   1111\u001b[0m \u001b[39m# Do not call functions when jit is used\u001b[39;00m\n\u001b[1;32m   1112\u001b[0m full_backward_hooks, non_full_backward_hooks \u001b[39m=\u001b[39m [], []\n",
      "File \u001b[0;32m/playpen-raid2/qinliu/projects/SimpleClick/isegm/model/modeling/hrnet_ocr.py:329\u001b[0m, in \u001b[0;36mHighResolutionNet.forward\u001b[0;34m(self, x, additional_features)\u001b[0m\n\u001b[1;32m    328\u001b[0m \u001b[39mdef\u001b[39;00m \u001b[39mforward\u001b[39m(\u001b[39mself\u001b[39m, x, additional_features\u001b[39m=\u001b[39m\u001b[39mNone\u001b[39;00m):\n\u001b[0;32m--> 329\u001b[0m     feats \u001b[39m=\u001b[39m \u001b[39mself\u001b[39;49m\u001b[39m.\u001b[39;49mcompute_hrnet_feats(x, additional_features)\n\u001b[1;32m    330\u001b[0m     \u001b[39mif\u001b[39;00m \u001b[39mself\u001b[39m\u001b[39m.\u001b[39mocr_width \u001b[39m>\u001b[39m \u001b[39m0\u001b[39m:\n\u001b[1;32m    331\u001b[0m         out_aux \u001b[39m=\u001b[39m \u001b[39mself\u001b[39m\u001b[39m.\u001b[39maux_head(feats)\n",
      "File \u001b[0;32m/playpen-raid2/qinliu/projects/SimpleClick/isegm/model/modeling/hrnet_ocr.py:342\u001b[0m, in \u001b[0;36mHighResolutionNet.compute_hrnet_feats\u001b[0;34m(self, x, additional_features)\u001b[0m\n\u001b[1;32m    341\u001b[0m \u001b[39mdef\u001b[39;00m \u001b[39mcompute_hrnet_feats\u001b[39m(\u001b[39mself\u001b[39m, x, additional_features):\n\u001b[0;32m--> 342\u001b[0m     x \u001b[39m=\u001b[39m \u001b[39mself\u001b[39;49m\u001b[39m.\u001b[39;49mcompute_pre_stage_features(x, additional_features)\n\u001b[1;32m    343\u001b[0m     x \u001b[39m=\u001b[39m \u001b[39mself\u001b[39m\u001b[39m.\u001b[39mlayer1(x)\n\u001b[1;32m    345\u001b[0m     x_list \u001b[39m=\u001b[39m []\n",
      "File \u001b[0;32m/playpen-raid2/qinliu/projects/SimpleClick/isegm/model/modeling/hrnet_ocr.py:383\u001b[0m, in \u001b[0;36mHighResolutionNet.compute_pre_stage_features\u001b[0;34m(self, x, additional_features)\u001b[0m\n\u001b[1;32m    381\u001b[0m \u001b[39mif\u001b[39;00m additional_features \u001b[39mis\u001b[39;00m \u001b[39mnot\u001b[39;00m \u001b[39mNone\u001b[39;00m:\n\u001b[1;32m    382\u001b[0m     \u001b[39mprint\u001b[39m(\u001b[39m'\u001b[39m\u001b[39mdebug: \u001b[39m\u001b[39m'\u001b[39m, x\u001b[39m.\u001b[39mshape, additional_features\u001b[39m.\u001b[39mshape)\n\u001b[0;32m--> 383\u001b[0m     x \u001b[39m=\u001b[39m x \u001b[39m+\u001b[39;49m additional_features\n\u001b[1;32m    384\u001b[0m x \u001b[39m=\u001b[39m \u001b[39mself\u001b[39m\u001b[39m.\u001b[39mconv2(x)\n\u001b[1;32m    385\u001b[0m x \u001b[39m=\u001b[39m \u001b[39mself\u001b[39m\u001b[39m.\u001b[39mbn2(x)\n",
      "\u001b[0;31mRuntimeError\u001b[0m: The size of tensor a (224) must match the size of tensor b (448) at non-singleton dimension 3"
     ]
    }
   ],
   "source": [
    "# Compute flops\n",
    "import torch\n",
    "from thop import profile\n",
    "\n",
    "input = torch.randn(1, 4, 448, 448)\n",
    "point = torch.randn(1, 2, 3)\n",
    "\n",
    "output = hrnet18s(input, point)\n"
   ]
  }
 ],
 "metadata": {
  "kernelspec": {
   "display_name": "Python 3.8.8 ('base')",
   "language": "python",
   "name": "python3"
  },
  "language_info": {
   "codemirror_mode": {
    "name": "ipython",
    "version": 3
   },
   "file_extension": ".py",
   "mimetype": "text/x-python",
   "name": "python",
   "nbconvert_exporter": "python",
   "pygments_lexer": "ipython3",
   "version": "3.8.8"
  },
  "orig_nbformat": 4,
  "vscode": {
   "interpreter": {
    "hash": "e89c9d8a920cc6bbfac98998034c8a15ed2e75dae1678af787f4c4e38e5be518"
   }
  }
 },
 "nbformat": 4,
 "nbformat_minor": 2
}
